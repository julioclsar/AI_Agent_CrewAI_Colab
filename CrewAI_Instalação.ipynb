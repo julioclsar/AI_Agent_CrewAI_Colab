{
  "nbformat": 4,
  "nbformat_minor": 0,
  "metadata": {
    "colab": {
      "provenance": [],
      "gpuType": "T4",
      "authorship_tag": "ABX9TyOySBS1xIX6wdMJmEjMOuza",
      "include_colab_link": true
    },
    "kernelspec": {
      "name": "python3",
      "display_name": "Python 3"
    },
    "language_info": {
      "name": "python"
    },
    "accelerator": "GPU"
  },
  "cells": [
    {
      "cell_type": "markdown",
      "metadata": {
        "id": "view-in-github",
        "colab_type": "text"
      },
      "source": [
        "<a href=\"https://colab.research.google.com/github/julioclsar/AI_Agent_CrewAI_Colab/blob/main/CrewAI_Instala%C3%A7%C3%A3o.ipynb\" target=\"_parent\"><img src=\"https://colab.research.google.com/assets/colab-badge.svg\" alt=\"Open In Colab\"/></a>"
      ]
    },
    {
      "cell_type": "markdown",
      "source": [
        "# Instalação do CrewAI"
      ],
      "metadata": {
        "id": "XijtTa663J2I"
      }
    },
    {
      "cell_type": "code",
      "execution_count": null,
      "metadata": {
        "id": "MTId0svz2JV4",
        "colab": {
          "base_uri": "https://localhost:8080/"
        },
        "outputId": "c5909797-bee0-4835-8515-6ba33ec98f60"
      },
      "outputs": [
        {
          "output_type": "stream",
          "name": "stdout",
          "text": [
            "3.3->crewai) (0.16)\n",
            "Requirement already satisfied: jiter<0.11,>=0.6.1 in /usr/local/lib/python3.11/dist-packages (from instructor>=1.3.3->crewai) (0.10.0)\n",
            "Requirement already satisfied: mkdocs-material>=9.5.49 in /usr/local/lib/python3.11/dist-packages (from instructor>=1.3.3->crewai) (9.6.14)\n",
            "Requirement already satisfied: mkdocs>=1.6.1 in /usr/local/lib/python3.11/dist-packages (from instructor>=1.3.3->crewai) (1.6.1)\n",
            "Requirement already satisfied: pre-commit>=4.2.0 in /usr/local/lib/python3.11/dist-packages (from instructor>=1.3.3->crewai) (4.2.0)\n",
            "Requirement already satisfied: pydantic-core<3.0.0,>=2.18.0 in /usr/local/lib/python3.11/dist-packages (from instructor>=1.3.3->crewai) (2.33.2)\n",
            "Requirement already satisfied: anyio<5,>=3.5.0 in /usr/local/lib/python3.11/dist-packages (from openai>=1.13.3->crewai) (4.9.0)\n",
            "Requirement already satisfied: distro<2,>=1.7.0 in /usr/local/lib/python3.11/dist-packages (from openai>=1.13.3->crewai) (1.9.0)\n",
            "Requirement already satisfied: google-auth>=1.0.1 in /usr/local/lib/python3.11/dist-packages (from kubernetes>=28.1.0->chromadb>=0.5.23->crewai) (2.38.0)\n",
            "Requirement already satisfied: websocket-client!=0.40.0,!=0.41.*,!=0.42.*,>=0.32.0 in /usr/local/lib/python3.11/dist-packages (from kubernetes>=28.1.0->chromadb>=0.5.23->crewai) (1.8.0)\n",
            "Requirement already satisfied: requests-oauthlib in /usr/local/lib/python3.11/dist-packages (from kubernetes>=28.1.0->chromadb>=0.5.23->crewai) (2.0.0)\n",
            "Requirement already satisfied: oauthlib>=3.2.2 in /usr/local/lib/python3.11/dist-packages (from kubernetes>=28.1.0->chromadb>=0.5.23->crewai) (3.3.1)\n",
            "Requirement already satisfied: durationpy>=0.7 in /usr/local/lib/python3.11/dist-packages (from kubernetes>=28.1.0->chromadb>=0.5.23->crewai) (0.10)\n",
            "Requirement already satisfied: ghp-import>=1.0 in /usr/local/lib/python3.11/dist-packages (from mkdocs>=1.6.1->instructor>=1.3.3->crewai) (2.1.0)\n",
            "Requirement already satisfied: markdown>=3.3.6 in /usr/local/lib/python3.11/dist-packages (from mkdocs>=1.6.1->instructor>=1.3.3->crewai) (3.8.2)\n",
            "Requirement already satisfied: mergedeep>=1.3.4 in /usr/local/lib/python3.11/dist-packages (from mkdocs>=1.6.1->instructor>=1.3.3->crewai) (1.3.4)\n",
            "Requirement already satisfied: mkdocs-get-deps>=0.2.0 in /usr/local/lib/python3.11/dist-packages (from mkdocs>=1.6.1->instructor>=1.3.3->crewai) (0.2.0)\n",
            "Requirement already satisfied: pathspec>=0.11.1 in /usr/local/lib/python3.11/dist-packages (from mkdocs>=1.6.1->instructor>=1.3.3->crewai) (0.12.1)\n",
            "Requirement already satisfied: pyyaml-env-tag>=0.1 in /usr/local/lib/python3.11/dist-packages (from mkdocs>=1.6.1->instructor>=1.3.3->crewai) (1.1)\n",
            "Requirement already satisfied: watchdog>=2.0 in /usr/local/lib/python3.11/dist-packages (from mkdocs>=1.6.1->instructor>=1.3.3->crewai) (6.0.0)\n",
            "Requirement already satisfied: babel~=2.10 in /usr/local/lib/python3.11/dist-packages (from mkdocs-material>=9.5.49->instructor>=1.3.3->crewai) (2.17.0)\n",
            "Requirement already satisfied: backrefs~=5.7.post1 in /usr/local/lib/python3.11/dist-packages (from mkdocs-material>=9.5.49->instructor>=1.3.3->crewai) (5.9)\n",
            "Requirement already satisfied: colorama~=0.4 in /usr/local/lib/python3.11/dist-packages (from mkdocs-material>=9.5.49->instructor>=1.3.3->crewai) (0.4.6)\n",
            "Requirement already satisfied: mkdocs-material-extensions~=1.3 in /usr/local/lib/python3.11/dist-packages (from mkdocs-material>=9.5.49->instructor>=1.3.3->crewai) (1.3.1)\n",
            "Requirement already satisfied: paginate~=0.5 in /usr/local/lib/python3.11/dist-packages (from mkdocs-material>=9.5.49->instructor>=1.3.3->crewai) (0.5.7)\n",
            "Requirement already satisfied: pymdown-extensions~=10.2 in /usr/local/lib/python3.11/dist-packages (from mkdocs-material>=9.5.49->instructor>=1.3.3->crewai) (10.16)\n",
            "Requirement already satisfied: backoff>=1.10.0 in /usr/local/lib/python3.11/dist-packages (from posthog>=2.4.0->chromadb>=0.5.23->crewai) (2.2.1)\n",
            "Requirement already satisfied: cfgv>=2.0.0 in /usr/local/lib/python3.11/dist-packages (from pre-commit>=4.2.0->instructor>=1.3.3->crewai) (3.4.0)\n",
            "Requirement already satisfied: identify>=1.0.0 in /usr/local/lib/python3.11/dist-packages (from pre-commit>=4.2.0->instructor>=1.3.3->crewai) (2.6.12)\n",
            "Requirement already satisfied: nodeenv>=0.11.1 in /usr/local/lib/python3.11/dist-packages (from pre-commit>=4.2.0->instructor>=1.3.3->crewai) (1.9.1)\n",
            "Requirement already satisfied: virtualenv>=20.10.0 in /usr/local/lib/python3.11/dist-packages (from pre-commit>=4.2.0->instructor>=1.3.3->crewai) (20.31.2)\n",
            "Requirement already satisfied: markdown-it-py>=2.2.0 in /usr/local/lib/python3.11/dist-packages (from rich>=10.11.0->chromadb>=0.5.23->crewai) (3.0.0)\n",
            "Requirement already satisfied: shellingham>=1.3.0 in /usr/local/lib/python3.11/dist-packages (from typer>=0.9.0->chromadb>=0.5.23->crewai) (1.5.4)\n",
            "Requirement already satisfied: httptools>=0.6.3 in /usr/local/lib/python3.11/dist-packages (from uvicorn[standard]>=0.18.3->chromadb>=0.5.23->crewai) (0.6.4)\n",
            "Requirement already satisfied: uvloop>=0.15.1 in /usr/local/lib/python3.11/dist-packages (from uvicorn[standard]>=0.18.3->chromadb>=0.5.23->crewai) (0.21.0)\n",
            "Requirement already satisfied: watchfiles>=0.13 in /usr/local/lib/python3.11/dist-packages (from uvicorn[standard]>=0.18.3->chromadb>=0.5.23->crewai) (1.1.0)\n",
            "Requirement already satisfied: websockets>=10.4 in /usr/local/lib/python3.11/dist-packages (from uvicorn[standard]>=0.18.3->chromadb>=0.5.23->crewai) (15.0.1)\n",
            "Requirement already satisfied: humanfriendly>=9.1 in /usr/local/lib/python3.11/dist-packages (from coloredlogs->onnxruntime==1.22.0->crewai) (10.0)\n",
            "Requirement already satisfied: mpmath<1.4,>=1.1.0 in /usr/local/lib/python3.11/dist-packages (from sympy->onnxruntime==1.22.0->crewai) (1.3.0)\n",
            "Requirement already satisfied: pycparser in /usr/local/lib/python3.11/dist-packages (from cffi>=1.12->cryptography>=43.0.1->auth0-python>=4.7.1->crewai) (2.22)\n",
            "Requirement already satisfied: cachetools<6.0,>=2.0.0 in /usr/local/lib/python3.11/dist-packages (from google-auth>=1.0.1->kubernetes>=28.1.0->chromadb>=0.5.23->crewai) (5.5.2)\n",
            "Requirement already satisfied: pyasn1-modules>=0.2.1 in /usr/local/lib/python3.11/dist-packages (from google-auth>=1.0.1->kubernetes>=28.1.0->chromadb>=0.5.23->crewai) (0.4.2)\n",
            "Requirement already satisfied: rsa<5,>=3.1.4 in /usr/local/lib/python3.11/dist-packages (from google-auth>=1.0.1->kubernetes>=28.1.0->chromadb>=0.5.23->crewai) (4.9.1)\n",
            "Requirement already satisfied: parso<0.9.0,>=0.8.4 in /usr/local/lib/python3.11/dist-packages (from jedi>=0.16->ipython>=5.3.0->pyvis>=0.3.2->crewai) (0.8.4)\n",
            "Requirement already satisfied: mdurl~=0.1 in /usr/local/lib/python3.11/dist-packages (from markdown-it-py>=2.2.0->rich>=10.11.0->chromadb>=0.5.23->crewai) (0.1.2)\n",
            "Requirement already satisfied: platformdirs>=2.2.0 in /usr/local/lib/python3.11/dist-packages (from mkdocs-get-deps>=0.2.0->mkdocs>=1.6.1->instructor>=1.3.3->crewai) (4.3.8)\n",
            "Requirement already satisfied: ptyprocess>=0.5 in /usr/local/lib/python3.11/dist-packages (from pexpect>4.3->ipython>=5.3.0->pyvis>=0.3.2->crewai) (0.7.0)\n",
            "Requirement already satisfied: wcwidth in /usr/local/lib/python3.11/dist-packages (from prompt-toolkit!=3.0.0,!=3.0.1,<3.1.0,>=2.0.0->ipython>=5.3.0->pyvis>=0.3.2->crewai) (0.2.13)\n",
            "Requirement already satisfied: distlib<1,>=0.3.7 in /usr/local/lib/python3.11/dist-packages (from virtualenv>=20.10.0->pre-commit>=4.2.0->instructor>=1.3.3->crewai) (0.3.9)\n",
            "Requirement already satisfied: pyasn1<0.7.0,>=0.6.1 in /usr/local/lib/python3.11/dist-packages (from pyasn1-modules>=0.2.1->google-auth>=1.0.1->kubernetes>=28.1.0->chromadb>=0.5.23->crewai) (0.6.1)\n"
          ]
        }
      ],
      "source": [
        "!pip install crewai"
      ]
    },
    {
      "cell_type": "markdown",
      "source": [
        "## Verificar a Instalação"
      ],
      "metadata": {
        "id": "hLowRuSZ30hj"
      }
    },
    {
      "cell_type": "code",
      "source": [
        "pip show crewai"
      ],
      "metadata": {
        "id": "tYHZhlXK4H1s"
      },
      "execution_count": null,
      "outputs": []
    },
    {
      "cell_type": "markdown",
      "source": [
        "# Configuração de Ambiente do CrewAI"
      ],
      "metadata": {
        "id": "kH5Vu__iE8lH"
      }
    },
    {
      "cell_type": "code",
      "source": [
        "import os\n",
        "from crewai import Agent, Task, Crew, Process\n",
        "from google.colab import userdata\n",
        "\n",
        "# OK! Pegando a chave da OpenAI de forma segura via Colab\n",
        "os.environ['OPENAI_API_KEY']=userdata.get('OPENAI_API_KEY')\n",
        "\n",
        "# OK! Criação do Agent\n",
        "especialista_instalacao_crewai = Agent(\n",
        "    role='Especialista em Instalação do CrewAI',\n",
        "    goal='Ajudar estudantes iniciantes a instalarem e configurarem corretamente o CrewAI',\n",
        "    backstory=(\n",
        "        'Você é um especialista paciente e didático em ambientes de desenvolvimento Python. '\n",
        "        'Seu objetivo é fornecer instruções claras para iniciantes instalarem e rodarem o CrewAI, de acordo com o SO especificado, '\n",
        "        'incluindo alternativas como o Google Colab para quem prefere não instalar localmente ou não possui um computador robusto.'\n",
        "    )\n",
        ")\n",
        "\n",
        "# OK! Criação da Task\n",
        "criar_guia_instalacao = Task(\n",
        "    description=(\n",
        "        'Gerar um guia passo a passo para instalação e configuração do CrewAI em um ambiente local baseado no SO: {so}. '\n",
        "        'O guia deve ser didático para iniciantes, incluir dependências como Python, pip e o próprio CrewAI. '\n",
        "        'Ao final, inclua como sugestão rodar projetos CrewAI no Google Colab, especialmente para quem está começando ou tem máquinas modestas.'\n",
        "    ),\n",
        "    expected_output=(\n",
        "        'Um guia em markdown com instruções para instalação local e uma seção final explicando como usar o Google Colab como alternativa.'\n",
        "        'Garanta que sua resposta não tenha marcadores (```makdown, por exemplo)'\n",
        "    ),\n",
        "    agent=especialista_instalacao_crewai\n",
        ")\n",
        "\n",
        "# OK! Criação da Crew\n",
        "equipe = Crew(\n",
        "    agents=[especialista_instalacao_crewai],\n",
        "    tasks=[criar_guia_instalacao],\n",
        "    process=Process.sequential\n",
        ")\n"
      ],
      "metadata": {
        "id": "5H2Em-SKFElV"
      },
      "execution_count": null,
      "outputs": []
    },
    {
      "cell_type": "markdown",
      "source": [
        "#Testes de Validação do CrewAI"
      ],
      "metadata": {
        "id": "5GbR03bAHc8f"
      }
    },
    {
      "cell_type": "code",
      "source": [
        "# OK! Executar a Crew!!!\n",
        "entrada_usuario = {\n",
        "    'so': 'Windows'\n",
        "}\n",
        "resultado = equipe.kickoff(inputs=entrada_usuario)\n",
        "print(resultado)"
      ],
      "metadata": {
        "colab": {
          "base_uri": "https://localhost:8080/"
        },
        "id": "QWx5eWYQHzT6",
        "outputId": "cb7b7e40-8906-4557-d498-355dc11d1d47"
      },
      "execution_count": null,
      "outputs": [
        {
          "output_type": "stream",
          "name": "stdout",
          "text": [
            "# Guia de Instalação do CrewAI no Windows\n",
            "\n",
            "Neste guia, você aprenderá como instalar e configurar o CrewAI em seu ambiente local no Windows, além de uma alternativa para rodar projetos no Google Colab.\n",
            "\n",
            "## Pré-requisitos\n",
            "\n",
            "Antes de instalar o CrewAI, você precisará ter Python e pip instalados em sua máquina.\n",
            "\n",
            "### Passo 1: Instalando o Python\n",
            "\n",
            "1. Acesse o site oficial do Python: [python.org](https://www.python.org).\n",
            "2. Vá para a seção \"Downloads\" e clique em \"Download Python\" para a versão mais recente compatível com Windows.\n",
            "3. Execute o instalador que você baixou.\n",
            "4. **Muito importante**: durante a instalação, marque a opção \"Add Python to PATH\", depois clique em \"Install Now\".\n",
            "5. Após a instalação, você pode verificar se o Python foi instalado corretamente:\n",
            "   - Abra o Prompt de Comando (Windows + R, digite `cmd`, e pressione Enter).\n",
            "   - Digite `python --version` e pressione Enter. Você deve ver a versão do Python instalada.\n",
            "\n",
            "### Passo 2: Instalando o pip\n",
            "\n",
            "O pip geralmente é instalado automaticamente com o Python mais recente. Para verificar se o pip está instalado, execute o seguinte comando no Prompt de Comando:\n",
            "\n",
            "- `pip --version`\n",
            "\n",
            "Se você não tiver o pip instalado, você pode instalá-lo manualmente seguindo estas etapas:\n",
            "\n",
            "1. Baixe o script `get-pip.py` em [get-pip.py](https://bootstrap.pypa.io/get-pip.py).\n",
            "2. No Prompt de Comando, navegue até o diretório onde você baixou `get-pip.py`.\n",
            "3. Execute o script com o comando:\n",
            "   - `python get-pip.py`\n",
            "\n",
            "### Passo 3: Instalando o CrewAI\n",
            "\n",
            "Agora que você tem Python e pip instalado, você pode instalar o CrewAI:\n",
            "\n",
            "1. Abra o Prompt de Comando.\n",
            "2. Execute o seguinte comando para instalar o CrewAI:\n",
            "   - `pip install crewai`\n",
            "3. Após a instalação, você pode verificar se o CrewAI foi instalado corretamente digitando:\n",
            "   - `crewai --version`\n",
            "\n",
            "## Usando o CrewAI\n",
            "\n",
            "Após a instalação, você pode começar a usar o CrewAI criando projetos em sua máquina local. Recomendo consultar a documentação oficial do CrewAI para entender melhor como utilizá-lo.\n",
            "\n",
            "## Alternativa: Usando o Google Colab\n",
            "\n",
            "Se você não deseja instalar o CrewAI localmente ou possui um computador com hardware modesto, o Google Colab é uma excelente alternativa. Siga os passos abaixo para usar o CrewAI no Google Colab:\n",
            "\n",
            "1. Acesse o Google Colab: [colab.research.google.com](https://colab.research.google.com).\n",
            "2. Crie um novo notebook.\n",
            "3. Antes de começar a usar o CrewAI, você precisa instalá-lo no ambiente do Colab. Para isso, na primeira célula do notebook, digite o seguinte comando e execute:\n",
            "   - `!pip install crewai`\n",
            "4. Após a instalação, você pode começar a usar o CrewAI diretamente nas células do Colab.\n",
            "\n",
            "O Google Colab oferece a vantagem de não precisar de instalação local e ainda conta com recursos computacionais na nuvem, facilitando o desenvolvimento e a execução de experimentos.\n",
            "\n",
            "Agora você está pronto para usar o CrewAI, seja localmente no Windows ou através do Google Colab!\n"
          ]
        }
      ]
    }
  ]
}